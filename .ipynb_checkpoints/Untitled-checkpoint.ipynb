{
 "cells": [
  {
   "cell_type": "code",
   "execution_count": 1,
   "id": "c94f8cf3-6972-421b-9cad-53ebae2e100d",
   "metadata": {},
   "outputs": [],
   "source": [
    "from wordcloud import WordCloud\n",
    "from sklearn.feature_extraction import text\n",
    "import matplotlib.pyplot as plt"
   ]
  },
  {
   "cell_type": "code",
   "execution_count": 2,
   "id": "2a98d74d-ddf9-4541-bab8-dd30fef447ee",
   "metadata": {},
   "outputs": [],
   "source": [
    "wc = WordCloud(\n",
    "    stopwords = text.ENGLISH_STOP_WORDS,\n",
    "    background_color = 'white')"
   ]
  },
  {
   "cell_type": "code",
   "execution_count": 3,
   "id": "14d8f474-5e3f-47c3-a042-0cea6691f5c6",
   "metadata": {},
   "outputs": [],
   "source": [
    "text = 'briggan better bring me my briggan soup or soup will be briggan him back'"
   ]
  },
  {
   "cell_type": "code",
   "execution_count": 4,
   "id": "770fa933-bf77-458a-9dc7-061f5c14fb1e",
   "metadata": {},
   "outputs": [],
   "source": [
    "wc.generate(text)\n",
    "\n",
    "plt.show()"
   ]
  }
 ],
 "metadata": {
  "kernelspec": {
   "display_name": "Python 3 (ipykernel)",
   "language": "python",
   "name": "python3"
  },
  "language_info": {
   "codemirror_mode": {
    "name": "ipython",
    "version": 3
   },
   "file_extension": ".py",
   "mimetype": "text/x-python",
   "name": "python",
   "nbconvert_exporter": "python",
   "pygments_lexer": "ipython3",
   "version": "3.9.7"
  }
 },
 "nbformat": 4,
 "nbformat_minor": 5
}
